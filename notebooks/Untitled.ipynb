{
 "cells": [
  {
   "cell_type": "code",
   "execution_count": 12,
   "id": "ce385af9",
   "metadata": {},
   "outputs": [],
   "source": [
    "# from nse_ab_quantlib import GraphPlotterStrat\n",
    "import instruments\n",
    "\n",
    "# strat = GraphPlotterStrat('/Users/jaskiratsingh/projects/smart-api-creds.ini')\n",
    "# strat.load_instruments('NIFTY', '20230301', '20230302')\n"
   ]
  },
  {
   "cell_type": "code",
   "execution_count": 8,
   "id": "4f8d1b89",
   "metadata": {},
   "outputs": [],
   "source": [
    "import sys\n",
    "sys.path.append(\"./\") # go to parent dir"
   ]
  },
  {
   "cell_type": "code",
   "execution_count": 3,
   "id": "1badaa0f",
   "metadata": {},
   "outputs": [],
   "source": [
    "#!/usr/bin/env python3\n",
    "\n",
    "import logging\n",
    "import argparse\n",
    "from datetime import timedelta, datetime\n",
    "\n",
    "from alphatools.backtesting_app import BackTestingApp\n",
    "from alphatools.utils.token_manager import TokenManager\n",
    "\n",
    "import instruments\n",
    "import sys\n",
    "\n",
    "\n",
    "logging.basicConfig(format='[%(asctime)s] %(levelname)-8s {%(pathname)s:%(lineno)d} : %(message)s',\n",
    "                    datefmt='%Y-%m-%d %H:%M:%S')\n",
    "class GraphPlotterStrat(BackTestingApp):\n",
    "    def __init__(self, creds):\n",
    "        # formatter = logging.Formatter(fmt='[%(asctime)s] %(levelname)-8s : %(message)s',\n",
    "        #                               datefmt='%Y-%m-%d %H:%M:%S')\n",
    "        # handler = logging.StreamHandler(sys.stdout)\n",
    "        # handler.setFormatter(formatter)\n",
    "        # self.logger.addHandler(handler)\n",
    "        # self.logger.setLevel(logging.INFO)\n",
    "        super().__init__(creds)\n",
    "\n",
    "    def load_instruments(self, symbol, start_date, end_date):\n",
    "        self.set_start_date(start_date)\n",
    "        self.set_end_date(end_date)\n",
    "\n",
    "        token_manager = TokenManager()\n",
    "        self.logger.info(\"Hello world\")\n",
    "        exp_date = instruments.get_kth_expiry(symbol[0], 1, instruments.ExpiryType.MONTHLY)\n",
    "        token_info = token_manager.get_fut(symbol[0], exp_date)\n",
    "        token = token_info['token']\n",
    "        exch_seg = token_info['exch_seg']\n",
    "        self.add_instrument(token, exch_seg)\n",
    "\n",
    "        self.load_data()\n",
    "\n"
   ]
  },
  {
   "cell_type": "code",
   "execution_count": null,
   "id": "5a1d3a48",
   "metadata": {},
   "outputs": [],
   "source": [
    "import matplotlib.pyplot as plt\n",
    "# print()\n",
    "candle_df = self.get_candle_info_df().apply(lambda row: row['Timestamp'].strftime(\n",
    "    '%Y-%m-%d %H:%M:%S%z'\n",
    "))\n",
    "\n",
    "candle_df.plot('Timestamp', ['OPEN'])\n",
    "plt.show()\n"
   ]
  }
 ],
 "metadata": {
  "kernelspec": {
   "display_name": "Python 3 (ipykernel)",
   "language": "python",
   "name": "python3"
  },
  "language_info": {
   "codemirror_mode": {
    "name": "ipython",
    "version": 3
   },
   "file_extension": ".py",
   "mimetype": "text/x-python",
   "name": "python",
   "nbconvert_exporter": "python",
   "pygments_lexer": "ipython3",
   "version": "3.10.9"
  }
 },
 "nbformat": 4,
 "nbformat_minor": 5
}
